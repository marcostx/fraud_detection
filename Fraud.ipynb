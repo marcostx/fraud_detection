{
 "cells": [
  {
   "cell_type": "code",
   "execution_count": 1,
   "metadata": {},
   "outputs": [],
   "source": [
    "# Desafio \n",
    "# @author: Marcos Teixeira"
   ]
  },
  {
   "cell_type": "code",
   "execution_count": 1,
   "metadata": {},
   "outputs": [
    {
     "name": "stderr",
     "output_type": "stream",
     "text": [
      "/usr/local/lib/python3.7/site-packages/lightgbm/__init__.py:46: UserWarning: Starting from version 2.2.1, the library file in distribution wheels for macOS is built by the Apple Clang (Xcode_8.3.3) compiler.\n",
      "This means that in case of installing LightGBM from PyPI via the ``pip install lightgbm`` command, you don't need to install the gcc compiler anymore.\n",
      "Instead of that, you need to install the OpenMP library, which is required for running LightGBM on the system with the Apple Clang compiler.\n",
      "You can install the OpenMP library by the following command: ``brew install libomp``.\n",
      "  \"You can install the OpenMP library by the following command: ``brew install libomp``.\", UserWarning)\n"
     ]
    }
   ],
   "source": [
    "# imports\n",
    "\n",
    "import numpy as np\n",
    "import pandas as pd\n",
    "\n",
    "import os\n",
    "from collections import Counter\n",
    "from sklearn.metrics import confusion_matrix\n",
    "from sklearn.model_selection import train_test_split\n",
    "from sklearn.utils.multiclass import unique_labels\n",
    "from sklearn.metrics import accuracy_score,precision_score,recall_score,f1_score\n",
    "\n",
    "import matplotlib.pyplot as plt\n",
    "import lightgbm as lgb"
   ]
  },
  {
   "cell_type": "code",
   "execution_count": 2,
   "metadata": {},
   "outputs": [],
   "source": [
    "# utilitary function\n",
    "def plot_confusion_matrix(y_true, y_pred, classes,\n",
    "                          normalize=True,\n",
    "                          title=None,\n",
    "                          cmap=plt.cm.Blues):\n",
    "    if not title:\n",
    "        if normalize:\n",
    "            title = 'Normalized confusion matrix'\n",
    "        else:\n",
    "            title = 'Confusion matrix, without normalization'\n",
    "\n",
    "    # Compute confusion matrix\n",
    "    cm = confusion_matrix(y_true, y_pred)\n",
    "    # Only use the labels that appear in the data\n",
    "    #classes = classes[unique_labels(y_true, y_pred)]\n",
    "    if normalize:\n",
    "        cm = cm.astype('float') / cm.sum(axis=1)[:, np.newaxis]\n",
    "        print(\"Normalized confusion matrix\")\n",
    "    else:\n",
    "        print('Confusion matrix, without normalization')\n",
    "\n",
    "    fig, ax = plt.subplots()\n",
    "    im = ax.imshow(cm, interpolation='nearest', cmap=cmap)\n",
    "    ax.figure.colorbar(im, ax=ax)\n",
    "    # We want to show all ticks...\n",
    "    ax.set(xticks=np.arange(cm.shape[1]),\n",
    "           yticks=np.arange(cm.shape[0]),\n",
    "           # ... and label them with the respective list entries\n",
    "           xticklabels=classes, yticklabels=classes,\n",
    "           title=title,\n",
    "           ylabel='True label',\n",
    "           xlabel='Predicted label')\n",
    "\n",
    "    # Rotate the tick labels and set their alignment.\n",
    "    plt.setp(ax.get_xticklabels(), rotation=45, ha=\"right\",\n",
    "             rotation_mode=\"anchor\")\n",
    "\n",
    "    # Loop over data dimensions and create text annotations.\n",
    "    fmt = '.2f' if normalize else 'd'\n",
    "    thresh = cm.max() / 2.\n",
    "    for i in range(cm.shape[0]):\n",
    "        for j in range(cm.shape[1]):\n",
    "            ax.text(j, i, format(cm[i, j], fmt),\n",
    "                    ha=\"center\", va=\"center\",\n",
    "                    color=\"white\" if cm[i, j] > thresh else \"black\")\n",
    "    fig.tight_layout()\n",
    "    return ax"
   ]
  },
  {
   "cell_type": "code",
   "execution_count": 3,
   "metadata": {},
   "outputs": [],
   "source": [
    "# Baseline\n",
    "def logistic_regression_experiment(xtrain, xtest, ytrain, ytest, cm=False):\n",
    "    # baseline approach : Linear Regression using all variables\n",
    "    from sklearn.linear_model import LogisticRegression\n",
    "\n",
    "    # building the model\n",
    "    model = LogisticRegression()\n",
    "    model.fit(xtrain, ytrain)\n",
    "\n",
    "    preds = model.predict(xtest)\n",
    "    if cm:\n",
    "        classes=[\"normal\", \"fraud\"]\n",
    "        plot_confusion_matrix(ytest,preds,classes,title='Confusion matrix')\n",
    "\n",
    "    accuracy = accuracy_score(preds,ytest)\n",
    "    recall = recall_score(preds,ytest)\n",
    "    precision = precision_score(preds,ytest)\n",
    "    f1 = f1_score(preds,ytest)\n",
    "\n",
    "    print(\"accuracy : {}\".format(accuracy))\n",
    "    print(\"recall : {}\".format(recall))\n",
    "    print(\"precision : {}\".format(precision))\n",
    "    print(\"f1 score : {}\".format(f1))\n",
    "    # accuracy : 0.9994666666666666\n",
    "    # recall : 1.0\n",
    "    # precision : 0.68\n",
    "    # f1 score : 0.8095238095238095"
   ]
  },
  {
   "cell_type": "code",
   "execution_count": 4,
   "metadata": {},
   "outputs": [],
   "source": [
    "# Light GBM setup\n",
    "def lightGBM_experiment(xtrain, xtest, ytrain, ytest, columns, plot_importance=False,cm=False):\n",
    "    # parameters for LightGBMClassifier\n",
    "    params = {\n",
    "        'objective' :'multiclass',\n",
    "        'learning_rate' : 0.02,\n",
    "        'num_leaves' : 31,\n",
    "        'is_unbalance': 'true',\n",
    "        \"max_depth\": -1,\n",
    "        \"num_class\": 2,\n",
    "        'feature_fraction': 0.5,\n",
    "        'bagging_fraction': 0.5,\n",
    "        'boosting_type' : 'gbdt',\n",
    "        'verbosity': 1\n",
    "    }\n",
    "\n",
    "    lgtrain = lgb.Dataset(xtrain,ytrain)\n",
    "    clf = lgb.train(params, lgtrain, 300, feature_name=list(columns))\n",
    "    preds = clf.predict(xtest)\n",
    "    preds = np.argmax(preds, axis=1)\n",
    "    \n",
    "    if cm:\n",
    "        classes=[\"normal\", \"fraud\"]\n",
    "        plot_confusion_matrix(ytest,preds,classes,title='Confusion matrix')\n",
    "\n",
    "    accuracy = accuracy_score(preds,ytest)\n",
    "    recall = recall_score(preds,ytest)\n",
    "    precision = precision_score(preds,ytest)\n",
    "    f1 = f1_score(preds,ytest)\n",
    "\n",
    "    print(\"accuracy : {}\".format(accuracy))\n",
    "    print(\"recall : {}\".format(recall))\n",
    "    print(\"precision : {}\".format(precision))\n",
    "    print(\"f1 score : {}\".format(f1))\n",
    "    # accuracy : 0.9996666666666667\n",
    "    # recall : 0.9545454545454546\n",
    "    # precision : 0.84\n",
    "    # f1 score : 0.8936170212765958\n",
    "    if plot_importance:\n",
    "        ax = lgb.plot_importance(clf)\n",
    "        ax.plot()\n",
    "        plt.show()"
   ]
  },
  {
   "cell_type": "code",
   "execution_count": 22,
   "metadata": {},
   "outputs": [],
   "source": [
    "def NN_experiment(xtrain, xtest, ytrain, ytest, cm=False):\n",
    "    # baseline approach : Linear Regression using all variables\n",
    "    from sklearn.neural_network import MLPClassifier\n",
    "\n",
    "    # building the model\n",
    "    model = MLPClassifier(hidden_layer_sizes=(100, ), activation='relu', solver='adam', \n",
    "                          alpha=0.0001, batch_size='auto', learning_rate='constant', \n",
    "                          learning_rate_init=0.001, power_t=0.5, max_iter=50, shuffle=True, \n",
    "                          random_state=None, tol=0.0001, verbose=False, warm_start=False, \n",
    "                          momentum=0.9, nesterovs_momentum=True, early_stopping=False, \n",
    "                          validation_fraction=0.1, beta_1=0.9, beta_2=0.999, epsilon=1e-08, \n",
    "                          n_iter_no_change=10)\n",
    "    model.fit(xtrain, ytrain)\n",
    "\n",
    "    preds = model.predict(xtest)\n",
    "    if cm:\n",
    "        classes=[\"normal\", \"fraud\"]\n",
    "        plot_confusion_matrix(ytest,preds,classes,title='Confusion matrix')\n",
    "\n",
    "    accuracy = accuracy_score(preds,ytest)\n",
    "    recall = recall_score(preds,ytest)\n",
    "    precision = precision_score(preds,ytest)\n",
    "    f1 = f1_score(preds,ytest)\n",
    "\n",
    "    print(\"accuracy : {}\".format(accuracy))\n",
    "    print(\"recall : {}\".format(recall))\n",
    "    print(\"precision : {}\".format(precision))\n",
    "    print(\"f1 score : {}\".format(f1))\n",
    "    # accuracy : 0.9996333333333334\n",
    "    # recall : 0.9333333333333333\n",
    "    # precision : 0.84\n",
    "    # f1 score : 0.8842105263157894"
   ]
  },
  {
   "cell_type": "code",
   "execution_count": 2,
   "metadata": {},
   "outputs": [],
   "source": [
    "# paths\n",
    "DATASITH_PATH='/Users/marcostexeira/Downloads/DESAFIO_CREDITO/'\n",
    "DATASITH_FILE='desafio_fraude.csv'\n"
   ]
  },
  {
   "cell_type": "code",
   "execution_count": 3,
   "metadata": {},
   "outputs": [],
   "source": [
    "def load_fraud_data(data_path,file):\n",
    "    csv_path = os.path.join(data_path, file)\n",
    "    return pd.read_csv(csv_path)"
   ]
  },
  {
   "cell_type": "code",
   "execution_count": 4,
   "metadata": {},
   "outputs": [],
   "source": [
    "# loading data\n",
    "dataset = load_fraud_data(DATASITH_PATH,DATASITH_FILE)\n",
    "np_dataset = dataset.values\n"
   ]
  },
  {
   "cell_type": "markdown",
   "metadata": {},
   "source": [
    "Missing data ??"
   ]
  },
  {
   "cell_type": "code",
   "execution_count": 9,
   "metadata": {},
   "outputs": [
    {
     "name": "stdout",
     "output_type": "stream",
     "text": [
      "Ocorrencia    0\n",
      "PP1           0\n",
      "PP2           0\n",
      "PP3           0\n",
      "PP4           0\n",
      "PP5           0\n",
      "PP6           0\n",
      "PP7           0\n",
      "PP8           0\n",
      "PP9           0\n",
      "PP10          0\n",
      "PP11          0\n",
      "PP12          0\n",
      "PP13          0\n",
      "PP14          0\n",
      "PP15          0\n",
      "PP16          0\n",
      "PP17          0\n",
      "PP18          0\n",
      "PP19          0\n",
      "PP20          0\n",
      "PP21          0\n",
      "PP22          0\n",
      "PP23          0\n",
      "PP24          0\n",
      "PP25          0\n",
      "PP26          0\n",
      "PP27          0\n",
      "PP28          0\n",
      "Sacado        0\n",
      "Fraude        0\n",
      "dtype: int64\n"
     ]
    }
   ],
   "source": [
    "missing_dataset = dataset.isna()\n",
    "dataset_num_missing = missing_dataset.sum()\n",
    "\n",
    "print(dataset_num_missing)"
   ]
  },
  {
   "cell_type": "code",
   "execution_count": 5,
   "metadata": {},
   "outputs": [],
   "source": [
    "# data split 80% train / 20% test\n",
    "xtrain, xtest, ytrain, ytest = train_test_split(np_dataset[:, :-1],np_dataset[:, -1],test_size=0.2, random_state=42)\n",
    "\n",
    "ytrain = ytrain.astype(int)\n",
    "ytest = ytest.astype(int)"
   ]
  },
  {
   "cell_type": "code",
   "execution_count": 6,
   "metadata": {},
   "outputs": [
    {
     "data": {
      "text/plain": [
       "(120000, 30)"
      ]
     },
     "execution_count": 6,
     "metadata": {},
     "output_type": "execute_result"
    }
   ],
   "source": [
    "xtrain.shape"
   ]
  },
  {
   "cell_type": "code",
   "execution_count": 6,
   "metadata": {},
   "outputs": [
    {
     "name": "stdout",
     "output_type": "stream",
     "text": [
      "[(0.0, 149763), (1.0, 237)]\n"
     ]
    }
   ],
   "source": [
    "print(Counter(np_dataset[:, -1]).most_common(2))"
   ]
  },
  {
   "cell_type": "markdown",
   "metadata": {},
   "source": [
    "## Baseline : Linear Regression"
   ]
  },
  {
   "cell_type": "code",
   "execution_count": 12,
   "metadata": {},
   "outputs": [
    {
     "name": "stderr",
     "output_type": "stream",
     "text": [
      "/usr/local/lib/python3.7/site-packages/sklearn/linear_model/logistic.py:432: FutureWarning: Default solver will be changed to 'lbfgs' in 0.22. Specify a solver to silence this warning.\n",
      "  FutureWarning)\n"
     ]
    },
    {
     "name": "stdout",
     "output_type": "stream",
     "text": [
      "Normalized confusion matrix\n",
      "accuracy : 0.9994666666666666\n",
      "recall : 1.0\n",
      "precision : 0.68\n",
      "f1 score : 0.8095238095238095\n"
     ]
    },
    {
     "data": {
      "image/png": "[encoded data removed]",
      "text/plain": [
       "<Figure size 432x288 with 2 Axes>"
      ]
     },
     "metadata": {
      "needs_background": "light"
     },
     "output_type": "display_data"
    }
   ],
   "source": [
    "logistic_regression_experiment(xtrain, xtest, ytrain, ytest,cm=True)"
   ]
  },
  {
   "cell_type": "markdown",
   "metadata": {},
   "source": [
    "## Melhorando com modelo de Boosting : Light GBM"
   ]
  },
  {
   "cell_type": "code",
   "execution_count": 13,
   "metadata": {},
   "outputs": [
    {
     "name": "stdout",
     "output_type": "stream",
     "text": [
      "Normalized confusion matrix\n",
      "accuracy : 0.9996666666666667\n",
      "recall : 0.9545454545454546\n",
      "precision : 0.84\n",
      "f1 score : 0.8936170212765958\n"
     ]
    },
    {
     "data": {
      "image/png": "[encoded data removed]",
      "text/plain": [
       "<Figure size 432x288 with 2 Axes>"
      ]
     },
     "metadata": {
      "needs_background": "light"
     },
     "output_type": "display_data"
    }
   ],
   "source": [
    "lightGBM_experiment(xtrain, xtest, ytrain, ytest,dataset.columns[:-1].values,cm=True)"
   ]
  },
  {
   "cell_type": "markdown",
   "metadata": {},
   "source": [
    "## Redes Neurais (Multi-layer Perceptron)"
   ]
  },
  {
   "cell_type": "code",
   "execution_count": 23,
   "metadata": {},
   "outputs": [
    {
     "name": "stderr",
     "output_type": "stream",
     "text": [
      "/usr/local/lib/python3.7/site-packages/sklearn/neural_network/multilayer_perceptron.py:566: ConvergenceWarning: Stochastic Optimizer: Maximum iterations (50) reached and the optimization hasn't converged yet.\n",
      "  % self.max_iter, ConvergenceWarning)\n"
     ]
    },
    {
     "name": "stdout",
     "output_type": "stream",
     "text": [
      "Normalized confusion matrix\n",
      "accuracy : 0.9996333333333334\n",
      "recall : 0.9333333333333333\n",
      "precision : 0.84\n",
      "f1 score : 0.8842105263157894\n"
     ]
    },
    {
     "data": {
      "image/png": "[encoded data removed]",
      "text/plain": [
       "<Figure size 432x288 with 2 Axes>"
      ]
     },
     "metadata": {
      "needs_background": "light"
     },
     "output_type": "display_data"
    }
   ],
   "source": [
    "NN_experiment(xtrain, xtest, ytrain, ytest,cm=True)"
   ]
  },
  {
   "cell_type": "markdown",
   "metadata": {},
   "source": [
    " * Vamos tentar diminuir a dimensionalidade das features para tentar uma melhoria da performance. \n",
    " * Um algoritmo padrão na literatura para tal é o PCA (Principle Component Analysis)\n",
    " * A dimensionalidade inicial é de 30-d, vamos tentar reduzir para 2-d, 10-d e 20-d, analisando a variância perdida"
   ]
  },
  {
   "cell_type": "code",
   "execution_count": 51,
   "metadata": {},
   "outputs": [],
   "source": [
    "from sklearn.decomposition import PCA\n",
    "\n",
    "# dimensions\n",
    "dims = [2,10,20]\n",
    "\n",
    "x = dataset.values[:, :-1]"
   ]
  },
  {
   "cell_type": "code",
   "execution_count": 18,
   "metadata": {},
   "outputs": [],
   "source": [
    "pca = PCA(n_components = dims[0])\n",
    "X2D = pca.fit_transform(x)"
   ]
  },
  {
   "cell_type": "markdown",
   "metadata": {},
   "source": [
    "Voltando para o espaço original "
   ]
  },
  {
   "cell_type": "code",
   "execution_count": 22,
   "metadata": {},
   "outputs": [
    {
     "name": "stdout",
     "output_type": "stream",
     "text": [
      "3.5290984912172974e-08\n"
     ]
    }
   ],
   "source": [
    "X30D_inv = pca.inverse_transform(X2D)\n",
    "print(1 - pca.explained_variance_ratio_.sum())"
   ]
  },
  {
   "cell_type": "markdown",
   "metadata": {},
   "source": [
    "treinar os modelos nesse nessa nova dimensionalidade"
   ]
  },
  {
   "cell_type": "code",
   "execution_count": 41,
   "metadata": {},
   "outputs": [],
   "source": [
    "xtrain, xtest, ytrain, ytest = train_test_split(X2D, dataset.values[:, -1],test_size=0.2, random_state=42)\n",
    "\n",
    "ytrain = ytrain.astype(int)\n",
    "ytest = ytest.astype(int)"
   ]
  },
  {
   "cell_type": "code",
   "execution_count": 48,
   "metadata": {},
   "outputs": [
    {
     "name": "stderr",
     "output_type": "stream",
     "text": [
      "/usr/local/lib/python3.7/site-packages/sklearn/linear_model/logistic.py:432: FutureWarning: Default solver will be changed to 'lbfgs' in 0.22. Specify a solver to silence this warning.\n",
      "  FutureWarning)\n",
      "/usr/local/lib/python3.7/site-packages/sklearn/metrics/classification.py:1439: UndefinedMetricWarning: Recall is ill-defined and being set to 0.0 due to no true samples.\n",
      "  'recall', 'true', average, warn_for)\n"
     ]
    },
    {
     "name": "stdout",
     "output_type": "stream",
     "text": [
      "accuracy : 0.9983333333333333\n",
      "recall : 0.0\n",
      "precision : 0.0\n",
      "f1 score : 0.0\n"
     ]
    },
    {
     "name": "stderr",
     "output_type": "stream",
     "text": [
      "/usr/local/lib/python3.7/site-packages/sklearn/metrics/classification.py:1439: UndefinedMetricWarning: F-score is ill-defined and being set to 0.0 due to no true samples.\n",
      "  'recall', 'true', average, warn_for)\n"
     ]
    }
   ],
   "source": [
    "logistic_regression_experiment(xtrain, xtest, ytrain, ytest)"
   ]
  },
  {
   "cell_type": "code",
   "execution_count": 49,
   "metadata": {},
   "outputs": [
    {
     "name": "stdout",
     "output_type": "stream",
     "text": [
      "accuracy : 0.9983333333333333\n",
      "recall : 0.0\n",
      "precision : 0.0\n",
      "f1 score : 0.0\n"
     ]
    }
   ],
   "source": [
    "lightGBM_experiment(xtrain, xtest, ytrain, ytest,dataset.columns[:-1].values)"
   ]
  },
  {
   "cell_type": "code",
   "execution_count": 50,
   "metadata": {},
   "outputs": [
    {
     "name": "stdout",
     "output_type": "stream",
     "text": [
      "accuracy : 0.9983333333333333\n",
      "recall : 0.0\n",
      "precision : 0.0\n",
      "f1 score : 0.0\n"
     ]
    },
    {
     "name": "stderr",
     "output_type": "stream",
     "text": [
      "/usr/local/lib/python3.7/site-packages/sklearn/neural_network/multilayer_perceptron.py:566: ConvergenceWarning: Stochastic Optimizer: Maximum iterations (40) reached and the optimization hasn't converged yet.\n",
      "  % self.max_iter, ConvergenceWarning)\n",
      "/usr/local/lib/python3.7/site-packages/sklearn/metrics/classification.py:1439: UndefinedMetricWarning: Recall is ill-defined and being set to 0.0 due to no true samples.\n",
      "  'recall', 'true', average, warn_for)\n",
      "/usr/local/lib/python3.7/site-packages/sklearn/metrics/classification.py:1439: UndefinedMetricWarning: F-score is ill-defined and being set to 0.0 due to no true samples.\n",
      "  'recall', 'true', average, warn_for)\n"
     ]
    }
   ],
   "source": [
    "NN_experiment(xtrain, xtest, ytrain, ytest)"
   ]
  },
  {
   "cell_type": "markdown",
   "metadata": {},
   "source": [
    "Muito ruim !!"
   ]
  },
  {
   "cell_type": "code",
   "execution_count": 56,
   "metadata": {},
   "outputs": [],
   "source": [
    "pca = PCA(n_components = dims[1])\n",
    "X10D = pca.fit_transform(x)"
   ]
  },
  {
   "cell_type": "code",
   "execution_count": 57,
   "metadata": {},
   "outputs": [
    {
     "data": {
      "text/plain": [
       "array([[-4.02512121e+04, -6.18793599e+01, -1.70687174e+00,\n",
       "         7.69466108e-01, -4.62090602e-01,  1.41268723e+00,\n",
       "        -4.01571718e-02,  1.62514909e+00, -1.08545998e+00,\n",
       "         7.08814929e-03],\n",
       "       [-4.02502277e+04,  3.16743687e+02, -1.50765133e+00,\n",
       "         7.55026552e-01, -1.46154211e+00,  1.62412721e-02,\n",
       "         7.92657053e-01, -1.45848645e-01, -7.18931149e-02,\n",
       "         2.09153950e+00],\n",
       "       [-4.02492439e+04,  7.09748896e+02, -1.49173535e+00,\n",
       "         9.76320982e-01, -2.89072326e-01, -3.40803817e-01,\n",
       "         5.30465067e-01,  1.42382016e+00, -6.17811818e-01,\n",
       "         3.92126384e-01],\n",
       "       [-4.02492122e+04, -5.89817070e+01, -1.40212483e+00,\n",
       "        -2.40025087e-01,  8.60928377e-01,  6.32711179e-01,\n",
       "         3.11474396e-01, -8.87654689e-01, -5.66598844e-02,\n",
       "         8.50433315e-02],\n",
       "       [-4.02482324e+04,  4.31916684e+02,  3.12780551e+00,\n",
       "         1.07640988e+00, -6.16325565e-01,  1.35683641e+00,\n",
       "         1.82828667e-01,  2.23620200e-01, -1.96406376e+00,\n",
       "         6.48791429e-01]])"
      ]
     },
     "execution_count": 57,
     "metadata": {},
     "output_type": "execute_result"
    }
   ],
   "source": [
    "X10D[:5]"
   ]
  },
  {
   "cell_type": "code",
   "execution_count": 58,
   "metadata": {},
   "outputs": [
    {
     "name": "stdout",
     "output_type": "stream",
     "text": [
      "1.523833692562704e-08\n"
     ]
    }
   ],
   "source": [
    "X30D_inv = pca.inverse_transform(X10D)\n",
    "print(1 - pca.explained_variance_ratio_.sum())"
   ]
  },
  {
   "cell_type": "code",
   "execution_count": 59,
   "metadata": {},
   "outputs": [],
   "source": [
    "xtrain, xtest, ytrain, ytest = train_test_split(X10D, dataset.values[:, -1],test_size=0.2, random_state=42)\n",
    "\n",
    "ytrain = ytrain.astype(int)\n",
    "ytest = ytest.astype(int)"
   ]
  },
  {
   "cell_type": "code",
   "execution_count": 60,
   "metadata": {},
   "outputs": [
    {
     "name": "stderr",
     "output_type": "stream",
     "text": [
      "/usr/local/lib/python3.7/site-packages/sklearn/linear_model/logistic.py:432: FutureWarning: Default solver will be changed to 'lbfgs' in 0.22. Specify a solver to silence this warning.\n",
      "  FutureWarning)\n"
     ]
    },
    {
     "name": "stdout",
     "output_type": "stream",
     "text": [
      "accuracy : 0.9987333333333334\n",
      "recall : 0.875\n",
      "precision : 0.28\n",
      "f1 score : 0.42424242424242425\n"
     ]
    }
   ],
   "source": [
    "logistic_regression_experiment(xtrain, xtest, ytrain, ytest)"
   ]
  },
  {
   "cell_type": "code",
   "execution_count": 61,
   "metadata": {},
   "outputs": [
    {
     "name": "stdout",
     "output_type": "stream",
     "text": [
      "accuracy : 0.9992666666666666\n",
      "recall : 0.9666666666666667\n",
      "precision : 0.58\n",
      "f1 score : 0.725\n"
     ]
    }
   ],
   "source": [
    "lightGBM_experiment(xtrain, xtest, ytrain, ytest),dataset.columns[:-1].values"
   ]
  },
  {
   "cell_type": "code",
   "execution_count": 64,
   "metadata": {},
   "outputs": [
    {
     "name": "stdout",
     "output_type": "stream",
     "text": [
      "accuracy : 0.9980333333333333\n",
      "recall : 0.32\n",
      "precision : 0.16\n",
      "f1 score : 0.21333333333333335\n"
     ]
    },
    {
     "name": "stderr",
     "output_type": "stream",
     "text": [
      "/usr/local/lib/python3.7/site-packages/sklearn/neural_network/multilayer_perceptron.py:566: ConvergenceWarning: Stochastic Optimizer: Maximum iterations (40) reached and the optimization hasn't converged yet.\n",
      "  % self.max_iter, ConvergenceWarning)\n"
     ]
    }
   ],
   "source": [
    "NN_experiment(xtrain, xtest, ytrain, ytest)"
   ]
  },
  {
   "cell_type": "markdown",
   "metadata": {},
   "source": [
    "Ainda muito abaixo dos resultados com dimensionalidade original. Vamos ao último PCA\n"
   ]
  },
  {
   "cell_type": "code",
   "execution_count": 67,
   "metadata": {},
   "outputs": [],
   "source": [
    "pca = PCA(n_components = dims[2])\n",
    "X20D = pca.fit_transform(x)"
   ]
  },
  {
   "cell_type": "code",
   "execution_count": 68,
   "metadata": {},
   "outputs": [
    {
     "name": "stdout",
     "output_type": "stream",
     "text": [
      "4.1269014872113985e-09\n"
     ]
    }
   ],
   "source": [
    "X30D_inv = pca.inverse_transform(X20D)\n",
    "print(1 - pca.explained_variance_ratio_.sum())"
   ]
  },
  {
   "cell_type": "code",
   "execution_count": 69,
   "metadata": {},
   "outputs": [],
   "source": [
    "xtrain, xtest, ytrain, ytest = train_test_split(X20D, dataset.values[:, -1],test_size=0.2, random_state=42)\n",
    "\n",
    "ytrain = ytrain.astype(int)\n",
    "ytest = ytest.astype(int)"
   ]
  },
  {
   "cell_type": "code",
   "execution_count": 70,
   "metadata": {},
   "outputs": [
    {
     "name": "stderr",
     "output_type": "stream",
     "text": [
      "/usr/local/lib/python3.7/site-packages/sklearn/linear_model/logistic.py:432: FutureWarning: Default solver will be changed to 'lbfgs' in 0.22. Specify a solver to silence this warning.\n",
      "  FutureWarning)\n"
     ]
    },
    {
     "name": "stdout",
     "output_type": "stream",
     "text": [
      "accuracy : 0.9995\n",
      "recall : 0.9069767441860465\n",
      "precision : 0.78\n",
      "f1 score : 0.8387096774193548\n"
     ]
    }
   ],
   "source": [
    "logistic_regression_experiment(xtrain, xtest, ytrain, ytest)"
   ]
  },
  {
   "cell_type": "code",
   "execution_count": 71,
   "metadata": {},
   "outputs": [
    {
     "name": "stdout",
     "output_type": "stream",
     "text": [
      "accuracy : 0.9995333333333334\n",
      "recall : 0.95\n",
      "precision : 0.76\n",
      "f1 score : 0.8444444444444444\n"
     ]
    }
   ],
   "source": [
    "lightGBM_experiment(xtrain, xtest, ytrain, ytest,dataset.columns[:-1].values)"
   ]
  },
  {
   "cell_type": "code",
   "execution_count": 76,
   "metadata": {},
   "outputs": [
    {
     "name": "stdout",
     "output_type": "stream",
     "text": [
      "accuracy : 0.9988666666666667\n",
      "recall : 0.8333333333333334\n",
      "precision : 0.4\n",
      "f1 score : 0.5405405405405406\n"
     ]
    }
   ],
   "source": [
    "NN_experiment(xtrain, xtest, ytrain, ytest)"
   ]
  },
  {
   "cell_type": "code",
   "execution_count": null,
   "metadata": {},
   "outputs": [],
   "source": []
  }
 ],
 "metadata": {
  "kernelspec": {
   "display_name": "Python 3",
   "language": "python",
   "name": "python3"
  },
  "language_info": {
   "codemirror_mode": {
    "name": "ipython",
    "version": 3
   },
   "file_extension": ".py",
   "mimetype": "text/x-python",
   "name": "python",
   "nbconvert_exporter": "python",
   "pygments_lexer": "ipython3",
   "version": "3.7.4"
  }
 },
 "nbformat": 4,
 "nbformat_minor": 4
}
